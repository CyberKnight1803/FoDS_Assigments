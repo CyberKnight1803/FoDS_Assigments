{
 "cells": [
  {
   "cell_type": "code",
   "execution_count": 1,
   "metadata": {},
   "outputs": [],
   "source": [
    "import numpy as np \n",
    "import pandas as pd \n",
    "import matplotlib.pyplot as plt \n",
    "from model import LinearRegression\n",
    "from utils import train_test_split, standardize, standardize_targets"
   ]
  },
  {
   "cell_type": "code",
   "execution_count": 2,
   "metadata": {},
   "outputs": [
    {
     "data": {
      "text/html": [
       "<div>\n",
       "<style scoped>\n",
       "    .dataframe tbody tr th:only-of-type {\n",
       "        vertical-align: middle;\n",
       "    }\n",
       "\n",
       "    .dataframe tbody tr th {\n",
       "        vertical-align: top;\n",
       "    }\n",
       "\n",
       "    .dataframe thead th {\n",
       "        text-align: right;\n",
       "    }\n",
       "</style>\n",
       "<table border=\"1\" class=\"dataframe\">\n",
       "  <thead>\n",
       "    <tr style=\"text-align: right;\">\n",
       "      <th></th>\n",
       "      <th>bedrooms</th>\n",
       "      <th>bathrooms</th>\n",
       "      <th>sqft_living</th>\n",
       "      <th>sqft_lot</th>\n",
       "      <th>floors</th>\n",
       "      <th>waterfront</th>\n",
       "      <th>view</th>\n",
       "      <th>condition</th>\n",
       "      <th>grade</th>\n",
       "      <th>sqft_above</th>\n",
       "      <th>sqft_basement</th>\n",
       "      <th>sqft_living15</th>\n",
       "      <th>sqft_lot15</th>\n",
       "      <th>price</th>\n",
       "    </tr>\n",
       "  </thead>\n",
       "  <tbody>\n",
       "    <tr>\n",
       "      <th>0</th>\n",
       "      <td>4</td>\n",
       "      <td>1.75</td>\n",
       "      <td>2120.0</td>\n",
       "      <td>7420</td>\n",
       "      <td>1.0</td>\n",
       "      <td>0</td>\n",
       "      <td>0</td>\n",
       "      <td>4</td>\n",
       "      <td>7</td>\n",
       "      <td>1060.0</td>\n",
       "      <td>1060</td>\n",
       "      <td>1540</td>\n",
       "      <td>7420</td>\n",
       "      <td>453000.0</td>\n",
       "    </tr>\n",
       "    <tr>\n",
       "      <th>1</th>\n",
       "      <td>4</td>\n",
       "      <td>2.50</td>\n",
       "      <td>2180.0</td>\n",
       "      <td>9861</td>\n",
       "      <td>2.0</td>\n",
       "      <td>0</td>\n",
       "      <td>2</td>\n",
       "      <td>3</td>\n",
       "      <td>8</td>\n",
       "      <td>2180.0</td>\n",
       "      <td>0</td>\n",
       "      <td>2390</td>\n",
       "      <td>9761</td>\n",
       "      <td>480000.0</td>\n",
       "    </tr>\n",
       "    <tr>\n",
       "      <th>2</th>\n",
       "      <td>3</td>\n",
       "      <td>1.50</td>\n",
       "      <td>1540.0</td>\n",
       "      <td>9800</td>\n",
       "      <td>1.0</td>\n",
       "      <td>0</td>\n",
       "      <td>0</td>\n",
       "      <td>3</td>\n",
       "      <td>7</td>\n",
       "      <td>1010.0</td>\n",
       "      <td>530</td>\n",
       "      <td>1600</td>\n",
       "      <td>8250</td>\n",
       "      <td>180500.0</td>\n",
       "    </tr>\n",
       "    <tr>\n",
       "      <th>3</th>\n",
       "      <td>3</td>\n",
       "      <td>3.50</td>\n",
       "      <td>2380.0</td>\n",
       "      <td>6250</td>\n",
       "      <td>2.0</td>\n",
       "      <td>0</td>\n",
       "      <td>3</td>\n",
       "      <td>3</td>\n",
       "      <td>8</td>\n",
       "      <td>1670.0</td>\n",
       "      <td>710</td>\n",
       "      <td>2540</td>\n",
       "      <td>4010</td>\n",
       "      <td>495000.0</td>\n",
       "    </tr>\n",
       "    <tr>\n",
       "      <th>4</th>\n",
       "      <td>4</td>\n",
       "      <td>2.50</td>\n",
       "      <td>2230.0</td>\n",
       "      <td>8500</td>\n",
       "      <td>2.0</td>\n",
       "      <td>0</td>\n",
       "      <td>0</td>\n",
       "      <td>3</td>\n",
       "      <td>8</td>\n",
       "      <td>2230.0</td>\n",
       "      <td>0</td>\n",
       "      <td>2270</td>\n",
       "      <td>8770</td>\n",
       "      <td>325000.0</td>\n",
       "    </tr>\n",
       "  </tbody>\n",
       "</table>\n",
       "</div>"
      ],
      "text/plain": [
       "   bedrooms  bathrooms  sqft_living  sqft_lot  floors  waterfront  view  \\\n",
       "0         4       1.75       2120.0      7420     1.0           0     0   \n",
       "1         4       2.50       2180.0      9861     2.0           0     2   \n",
       "2         3       1.50       1540.0      9800     1.0           0     0   \n",
       "3         3       3.50       2380.0      6250     2.0           0     3   \n",
       "4         4       2.50       2230.0      8500     2.0           0     0   \n",
       "\n",
       "   condition  grade  sqft_above  sqft_basement  sqft_living15  sqft_lot15  \\\n",
       "0          4      7      1060.0           1060           1540        7420   \n",
       "1          3      8      2180.0              0           2390        9761   \n",
       "2          3      7      1010.0            530           1600        8250   \n",
       "3          3      8      1670.0            710           2540        4010   \n",
       "4          3      8      2230.0              0           2270        8770   \n",
       "\n",
       "      price  \n",
       "0  453000.0  \n",
       "1  480000.0  \n",
       "2  180500.0  \n",
       "3  495000.0  \n",
       "4  325000.0  "
      ]
     },
     "execution_count": 2,
     "metadata": {},
     "output_type": "execute_result"
    }
   ],
   "source": [
    "data = pd.read_csv('FoDS-Assignment-2.csv')\n",
    "data.head()"
   ]
  },
  {
   "cell_type": "code",
   "execution_count": 3,
   "metadata": {},
   "outputs": [],
   "source": [
    "PREPROCESS = True"
   ]
  },
  {
   "cell_type": "markdown",
   "metadata": {},
   "source": [
    "# Dataset Analysis"
   ]
  },
  {
   "cell_type": "markdown",
   "metadata": {},
   "source": [
    "# Handling missing values"
   ]
  },
  {
   "cell_type": "code",
   "execution_count": 4,
   "metadata": {},
   "outputs": [
    {
     "data": {
      "text/plain": [
       "bedrooms          0\n",
       "bathrooms         0\n",
       "sqft_living      14\n",
       "sqft_lot          0\n",
       "floors           13\n",
       "waterfront        0\n",
       "view              0\n",
       "condition         0\n",
       "grade             0\n",
       "sqft_above       14\n",
       "sqft_basement     0\n",
       "sqft_living15     0\n",
       "sqft_lot15        0\n",
       "price             0\n",
       "dtype: int64"
      ]
     },
     "execution_count": 4,
     "metadata": {},
     "output_type": "execute_result"
    }
   ],
   "source": [
    "data.isnull().sum()"
   ]
  },
  {
   "cell_type": "markdown",
   "metadata": {},
   "source": [
    "\n",
    "## Imputation technique: Impute missing values with mean"
   ]
  },
  {
   "cell_type": "code",
   "execution_count": 5,
   "metadata": {},
   "outputs": [],
   "source": [
    "if PREPROCESS:\n",
    "    data['sqft_living'] = data['sqft_living'].replace(np.NaN, data['sqft_living'].mean())\n",
    "    data['floors'] = data['floors'].replace(np.NaN, data['floors'].mean())\n",
    "    data['sqft_above'] = data['sqft_above'].replace(np.NaN, data['sqft_above'].mean())\n",
    "\n",
    "else:\n",
    "    data.dropna(subset=[\"sqft_living\", \"floors\", \"sqft_above\"], inplace=True)"
   ]
  },
  {
   "cell_type": "code",
   "execution_count": 6,
   "metadata": {},
   "outputs": [],
   "source": [
    "X = data.iloc[:, :-1].to_numpy().T\n",
    "y = data.iloc[:, -1].to_numpy().reshape(-1, 1)"
   ]
  },
  {
   "cell_type": "code",
   "execution_count": 7,
   "metadata": {},
   "outputs": [
    {
     "data": {
      "text/plain": [
       "((13, 1188), (1188, 1))"
      ]
     },
     "execution_count": 7,
     "metadata": {},
     "output_type": "execute_result"
    }
   ],
   "source": [
    "# Dataset Details\n",
    "X.shape, y.shape"
   ]
  },
  {
   "cell_type": "markdown",
   "metadata": {},
   "source": [
    "# Outlier Detection"
   ]
  },
  {
   "cell_type": "code",
   "execution_count": 8,
   "metadata": {},
   "outputs": [],
   "source": [
    "center = np.mean(X, axis=1, keepdims=True)\n",
    "euclidean_distance = np.linalg.norm((X - center), ord=2, axis=0)"
   ]
  },
  {
   "cell_type": "code",
   "execution_count": 9,
   "metadata": {},
   "outputs": [
    {
     "data": {
      "text/plain": [
       "(18961.199216798053, 1686824.3691954182, 1236.7105832029372)"
      ]
     },
     "execution_count": 9,
     "metadata": {},
     "output_type": "execute_result"
    }
   ],
   "source": [
    "np.mean(euclidean_distance), np.max(euclidean_distance), np.min(euclidean_distance)"
   ]
  },
  {
   "cell_type": "code",
   "execution_count": 10,
   "metadata": {},
   "outputs": [
    {
     "data": {
      "text/plain": [
       "Text(0.5, 1.0, 'Outlier Detection')"
      ]
     },
     "execution_count": 10,
     "metadata": {},
     "output_type": "execute_result"
    },
    {
     "data": {
      "image/png": "[encoded data removed]",
      "text/plain": [
       "<Figure size 432x288 with 1 Axes>"
      ]
     },
     "metadata": {
      "needs_background": "light"
     },
     "output_type": "display_data"
    }
   ],
   "source": [
    "plt.scatter(range(len(euclidean_distance)), euclidean_distance)\n",
    "plt.xlabel(\"Data Points\")\n",
    "plt.ylabel(\"Euclidean Distance\")\n",
    "plt.title(\"Outlier Detection\")"
   ]
  },
  {
   "cell_type": "code",
   "execution_count": 11,
   "metadata": {},
   "outputs": [
    {
     "data": {
      "text/plain": [
       "2"
      ]
     },
     "execution_count": 11,
     "metadata": {},
     "output_type": "execute_result"
    }
   ],
   "source": [
    "outliers_count = np.sum(euclidean_distance > 25 * np.mean(euclidean_distance))\n",
    "outliers_count"
   ]
  },
  {
   "cell_type": "code",
   "execution_count": 12,
   "metadata": {},
   "outputs": [],
   "source": [
    "if PREPROCESS:\n",
    "    outliers = euclidean_distance > 25 * np.mean(euclidean_distance)\n",
    "    outliers_idx = np.argwhere(outliers == 1)\n",
    "    A = X\n",
    "    for idx in outliers_idx.squeeze():\n",
    "        A = np.delete(A, idx, 1)\n",
    "\n",
    "    X = A "
   ]
  },
  {
   "cell_type": "code",
   "execution_count": 13,
   "metadata": {},
   "outputs": [
    {
     "data": {
      "text/plain": [
       "(13, 1186)"
      ]
     },
     "execution_count": 13,
     "metadata": {},
     "output_type": "execute_result"
    }
   ],
   "source": [
    "X.shape"
   ]
  },
  {
   "cell_type": "markdown",
   "metadata": {},
   "source": [
    "## Standardization"
   ]
  },
  {
   "cell_type": "code",
   "execution_count": 14,
   "metadata": {},
   "outputs": [
    {
     "data": {
      "text/plain": [
       "((13, 830), (830, 1), (13, 356), (356, 1))"
      ]
     },
     "execution_count": 14,
     "metadata": {},
     "output_type": "execute_result"
    }
   ],
   "source": [
    "# Preprocessing\n",
    "X_train, X_test, y_train, y_test = train_test_split(X, y, seed=42)\n",
    "X_train, X_test = standardize(X_train, X_test)\n",
    "y_train, y_test = standardize_targets(y_train, y_test)\n",
    "\n",
    "\n",
    "X_train.shape, y_train.shape, X_test.shape, y_test.shape"
   ]
  },
  {
   "cell_type": "code",
   "execution_count": 15,
   "metadata": {},
   "outputs": [],
   "source": [
    "MODEL = LinearRegression(\n",
    "    num_features=X_train.shape[0], \n",
    "    learning_rate=0.01, \n",
    "    epochs=500, \n",
    "    GD='BatchGD'\n",
    ")"
   ]
  },
  {
   "cell_type": "code",
   "execution_count": 16,
   "metadata": {},
   "outputs": [
    {
     "name": "stdout",
     "output_type": "stream",
     "text": [
      "Cost after iteration 50 : 0.46526942714806296\n",
      "Cost after iteration 100 : 0.4605671431503939\n",
      "Cost after iteration 150 : 0.45852158076985755\n",
      "Cost after iteration 200 : 0.4575651045714675\n",
      "Cost after iteration 250 : 0.45710624978684944\n",
      "Cost after iteration 300 : 0.45688063673480195\n",
      "Cost after iteration 350 : 0.4567664620015668\n",
      "Cost after iteration 400 : 0.4567065284115375\n",
      "Cost after iteration 450 : 0.45667356979321466\n",
      "Cost after iteration 500 : 0.4566544000432228\n"
     ]
    },
    {
     "data": {
      "image/png": "[encoded data removed]",
      "text/plain": [
       "<Figure size 432x288 with 1 Axes>"
      ]
     },
     "metadata": {
      "needs_background": "light"
     },
     "output_type": "display_data"
    }
   ],
   "source": [
    "MODEL.train(X_train, y_train, plot_loss_curves=True)"
   ]
  },
  {
   "cell_type": "markdown",
   "metadata": {},
   "source": [
    "# Greedy Forward Selection"
   ]
  },
  {
   "cell_type": "code",
   "execution_count": 17,
   "metadata": {},
   "outputs": [],
   "source": [
    "def greedy_fwd(X, y, init_ft = []):\n",
    "    \"\"\"\n",
    "    Greedy forward selection algorithm\n",
    "    \"\"\"\n",
    "    ft = init_ft\n",
    "    n, d = X.shape\n",
    "    ls = []\n",
    "    cnt=1\n",
    "    while True:\n",
    "        #print(len(ft), end='\\n\\n\\n\\n\\n')\n",
    "        min_cost = np.inf\n",
    "        best_feature = -1\n",
    "        for i in range(n):\n",
    "            if i in ft:\n",
    "                continue\n",
    "            #print(i, n)\n",
    "            #print(X.shape, y.shape)\n",
    "            #print(X[ft+[i], :].shape, y.shape)\n",
    "            #MODEL2 = LinearRegression(num_features=X[ft+[i], :].shape[0], learning_rate=0.01, epochs=500, GD='BatchGD')\n",
    "            cost = LinearRegression(num_features=X[ft+[i], :].shape[0], learning_rate=0.01, epochs=500, GD='BatchGD').train(X[ft+[i], :], y, print_cost=False, plot_loss_curves=False, ret_final_cost=True)\n",
    "            if cost < min_cost:\n",
    "                min_cost = cost\n",
    "                best_feature = i\n",
    "            #print(i, cost, min_cost)\n",
    "        if best_feature == -1:\n",
    "            break\n",
    "        # print(\"before: \", ft)\n",
    "        ft.append(best_feature)\n",
    "        # print(\"after: \", ft)\n",
    "        # print([ft, min_cost])\n",
    "        # print(len(ft[:cnt]))\n",
    "        ls.append([ft[:cnt], min_cost])\n",
    "        cnt+=1\n",
    "    return ls"
   ]
  },
  {
   "cell_type": "code",
   "execution_count": 18,
   "metadata": {},
   "outputs": [
    {
     "data": {
      "text/plain": [
       "[[[8], 0.4754344186974244],\n",
       " [[8, 6], 0.46148039289968323],\n",
       " [[8, 6, 5], 0.45926704931275847],\n",
       " [[8, 6, 5, 11], 0.4577816824496525],\n",
       " [[8, 6, 5, 11, 9], 0.45739387488823],\n",
       " [[8, 6, 5, 11, 9, 7], 0.457184117817872],\n",
       " [[8, 6, 5, 11, 9, 7, 4], 0.4569153248473172],\n",
       " [[8, 6, 5, 11, 9, 7, 4, 0], 0.45677645453383503],\n",
       " [[8, 6, 5, 11, 9, 7, 4, 0, 12], 0.4566311968536072],\n",
       " [[8, 6, 5, 11, 9, 7, 4, 0, 12, 3], 0.45662880570721415],\n",
       " [[8, 6, 5, 11, 9, 7, 4, 0, 12, 3, 10], 0.456626894552161],\n",
       " [[8, 6, 5, 11, 9, 7, 4, 0, 12, 3, 10, 1], 0.45663810359100965],\n",
       " [[8, 6, 5, 11, 9, 7, 4, 0, 12, 3, 10, 1, 2], 0.4566544000432227]]"
      ]
     },
     "execution_count": 18,
     "metadata": {},
     "output_type": "execute_result"
    }
   ],
   "source": [
    "greedy_fwd(X_train, y_train)"
   ]
  },
  {
   "cell_type": "code",
   "execution_count": 19,
   "metadata": {},
   "outputs": [],
   "source": [
    "err = [0.4754344186974244,\n",
    "46148039289968323,0.45926704931275847, 0.4577816824496525, 0.45739387488823,\n",
    "0.457184117817872,0.4569153248473172,0.45677645453383503,0.4566311968536072,0.45662880570721415,0.456626894552161,0.45663810359100965,0.4566544000432227]"
   ]
  },
  {
   "cell_type": "code",
   "execution_count": 20,
   "metadata": {},
   "outputs": [],
   "source": [
    "err.sort()"
   ]
  },
  {
   "cell_type": "code",
   "execution_count": 21,
   "metadata": {},
   "outputs": [
    {
     "data": {
      "text/plain": [
       "[0.456626894552161,\n",
       " 0.45662880570721415,\n",
       " 0.4566311968536072,\n",
       " 0.45663810359100965,\n",
       " 0.4566544000432227,\n",
       " 0.45677645453383503,\n",
       " 0.4569153248473172,\n",
       " 0.457184117817872,\n",
       " 0.45739387488823,\n",
       " 0.4577816824496525,\n",
       " 0.45926704931275847,\n",
       " 0.4754344186974244,\n",
       " 46148039289968323]"
      ]
     },
     "execution_count": 21,
     "metadata": {},
     "output_type": "execute_result"
    }
   ],
   "source": [
    "err"
   ]
  },
  {
   "cell_type": "code",
   "execution_count": 22,
   "metadata": {},
   "outputs": [
    {
     "data": {
      "text/plain": [
       "Index(['grade', 'view', 'waterfront', 'sqft_living15', 'sqft_above',\n",
       "       'condition', 'floors', 'bedrooms', 'sqft_lot15', 'sqft_lot',\n",
       "       'sqft_basement'],\n",
       "      dtype='object')"
      ]
     },
     "execution_count": 22,
     "metadata": {},
     "output_type": "execute_result"
    }
   ],
   "source": [
    "a = [8, 6, 5, 11, 9, 7, 4, 0, 12, 3, 10]\n",
    "colname = data.columns[a]\n",
    "colname"
   ]
  },
  {
   "cell_type": "code",
   "execution_count": 23,
   "metadata": {},
   "outputs": [],
   "source": [
    "def greedy_bkwd(X, y):\n",
    "    \"\"\"\n",
    "    Greedy backward algorithm\n",
    "    \"\"\"\n",
    "    n, d = X.shape\n",
    "    ft = list(range(n))\n",
    "    sub_ft = ft\n",
    "    while len(sub_ft)>0:\n",
    "        min_cost = np.inf\n",
    "        worst_feature = -1\n",
    "        for i in range(n):\n",
    "            if i not in sub_ft:\n",
    "                continue\n",
    "            #print(ft, i)\n",
    "            temp_ft = [x for x in ft if x != i]\n",
    "            cost = LinearRegression(num_features=X[temp_ft, :].shape[0], learning_rate=0.01, epochs=500, GD='BatchGD').train(X[temp_ft, :], y, print_cost=False, plot_loss_curves=False, ret_final_cost=True)\n",
    "            if cost < min_cost:\n",
    "                min_cost = cost\n",
    "                worst_feature = i\n",
    "            #print(i, cost, min_cost)\n",
    "        if worst_feature == -1:\n",
    "            break\n",
    "        sub_ft.remove(worst_feature)\n",
    "        print([sub_ft, min_cost])\n",
    "        "
   ]
  },
  {
   "cell_type": "code",
   "execution_count": 24,
   "metadata": {},
   "outputs": [
    {
     "name": "stdout",
     "output_type": "stream",
     "text": [
      "[[0, 1, 3, 4, 5, 6, 7, 8, 9, 10, 11, 12], 0.45663810359100965]\n",
      "[[0, 3, 4, 5, 6, 7, 8, 9, 10, 11, 12], 0.456626894552161]\n",
      "[[0, 3, 4, 5, 6, 7, 8, 9, 11, 12], 0.4566288057072141]\n",
      "[[0, 4, 5, 6, 7, 8, 9, 11, 12], 0.4566311968536072]\n",
      "[[0, 4, 5, 6, 7, 8, 9, 11], 0.45677645453383503]\n",
      "[[4, 5, 6, 7, 8, 9, 11], 0.4569153248473172]\n",
      "[[4, 5, 6, 7, 8, 11], 0.4570902072421017]\n",
      "[[4, 5, 6, 8, 11], 0.45742996084089244]\n",
      "[[5, 6, 8, 11], 0.4577816824496525]\n",
      "[[5, 6, 8], 0.45926704931275847]\n",
      "[[6, 8], 0.46148039289968323]\n",
      "[[8], 0.4754344186974244]\n",
      "[[], 0.5]\n"
     ]
    }
   ],
   "source": [
    "greedy_bkwd(X_train, y_train)"
   ]
  },
  {
   "cell_type": "code",
   "execution_count": 25,
   "metadata": {},
   "outputs": [],
   "source": [
    "err = [0.45663810359100965, 0.456626894552161, 0.4566288057072141, 0.4566311968536072, 0.45677645453383503, 0.4569153248473172, 0.4570902072421017,\n",
    "0.45742996084089244, 0.4577816824496525, 0.45926704931275847, 0.46148039289968323, 0.4754344186974244]"
   ]
  },
  {
   "cell_type": "code",
   "execution_count": 26,
   "metadata": {},
   "outputs": [],
   "source": [
    "err.sort()"
   ]
  },
  {
   "cell_type": "code",
   "execution_count": 27,
   "metadata": {},
   "outputs": [
    {
     "data": {
      "text/plain": [
       "[0.456626894552161,\n",
       " 0.4566288057072141,\n",
       " 0.4566311968536072,\n",
       " 0.45663810359100965,\n",
       " 0.45677645453383503,\n",
       " 0.4569153248473172,\n",
       " 0.4570902072421017,\n",
       " 0.45742996084089244,\n",
       " 0.4577816824496525,\n",
       " 0.45926704931275847,\n",
       " 0.46148039289968323,\n",
       " 0.4754344186974244]"
      ]
     },
     "execution_count": 27,
     "metadata": {},
     "output_type": "execute_result"
    }
   ],
   "source": [
    "err"
   ]
  },
  {
   "cell_type": "code",
   "execution_count": 28,
   "metadata": {},
   "outputs": [
    {
     "data": {
      "text/plain": [
       "Index(['bedrooms', 'sqft_lot', 'floors', 'waterfront', 'view', 'condition',\n",
       "       'grade', 'sqft_above', 'sqft_basement', 'sqft_living15', 'sqft_lot15'],\n",
       "      dtype='object')"
      ]
     },
     "execution_count": 28,
     "metadata": {},
     "output_type": "execute_result"
    }
   ],
   "source": [
    "a = [0, 3, 4, 5, 6, 7, 8, 9, 10, 11, 12]\n",
    "colname = data.columns[a]\n",
    "colname"
   ]
  }
 ],
 "metadata": {
  "interpreter": {
   "hash": "ac2b08c951dac2a338a7c84613525b650efa077f3ead3ddcf0c3dbf45296c55b"
  },
  "kernelspec": {
   "display_name": "Python 3",
   "language": "python",
   "name": "python3"
  },
  "language_info": {
   "codemirror_mode": {
    "name": "ipython",
    "version": 3
   },
   "file_extension": ".py",
   "mimetype": "text/x-python",
   "name": "python",
   "nbconvert_exporter": "python",
   "pygments_lexer": "ipython3",
   "version": "3.8.3"
  }
 },
 "nbformat": 4,
 "nbformat_minor": 2
}
