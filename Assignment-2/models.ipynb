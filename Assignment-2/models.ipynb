{
 "cells": [
  {
   "cell_type": "code",
   "execution_count": 1,
   "source": [
    "import numpy as np \n",
    "import pandas as pd \n",
    "import matplotlib.pyplot as plt \n",
    "from model import LinearRegression\n",
    "from utils import train_test_split, standardize, standardize_targets"
   ],
   "outputs": [],
   "metadata": {}
  },
  {
   "cell_type": "code",
   "execution_count": 2,
   "source": [
    "data = pd.read_csv('FoDS-Assignment-2.csv')\n",
    "data.head()"
   ],
   "outputs": [
    {
     "output_type": "execute_result",
     "data": {
      "text/html": [
       "<div>\n",
       "<style scoped>\n",
       "    .dataframe tbody tr th:only-of-type {\n",
       "        vertical-align: middle;\n",
       "    }\n",
       "\n",
       "    .dataframe tbody tr th {\n",
       "        vertical-align: top;\n",
       "    }\n",
       "\n",
       "    .dataframe thead th {\n",
       "        text-align: right;\n",
       "    }\n",
       "</style>\n",
       "<table border=\"1\" class=\"dataframe\">\n",
       "  <thead>\n",
       "    <tr style=\"text-align: right;\">\n",
       "      <th></th>\n",
       "      <th>bedrooms</th>\n",
       "      <th>bathrooms</th>\n",
       "      <th>sqft_living</th>\n",
       "      <th>sqft_lot</th>\n",
       "      <th>floors</th>\n",
       "      <th>waterfront</th>\n",
       "      <th>view</th>\n",
       "      <th>condition</th>\n",
       "      <th>grade</th>\n",
       "      <th>sqft_above</th>\n",
       "      <th>sqft_basement</th>\n",
       "      <th>sqft_living15</th>\n",
       "      <th>sqft_lot15</th>\n",
       "      <th>price</th>\n",
       "    </tr>\n",
       "  </thead>\n",
       "  <tbody>\n",
       "    <tr>\n",
       "      <th>0</th>\n",
       "      <td>4</td>\n",
       "      <td>1.75</td>\n",
       "      <td>2120.0</td>\n",
       "      <td>7420</td>\n",
       "      <td>1.0</td>\n",
       "      <td>0</td>\n",
       "      <td>0</td>\n",
       "      <td>4</td>\n",
       "      <td>7</td>\n",
       "      <td>1060.0</td>\n",
       "      <td>1060</td>\n",
       "      <td>1540</td>\n",
       "      <td>7420</td>\n",
       "      <td>453000.0</td>\n",
       "    </tr>\n",
       "    <tr>\n",
       "      <th>1</th>\n",
       "      <td>4</td>\n",
       "      <td>2.50</td>\n",
       "      <td>2180.0</td>\n",
       "      <td>9861</td>\n",
       "      <td>2.0</td>\n",
       "      <td>0</td>\n",
       "      <td>2</td>\n",
       "      <td>3</td>\n",
       "      <td>8</td>\n",
       "      <td>2180.0</td>\n",
       "      <td>0</td>\n",
       "      <td>2390</td>\n",
       "      <td>9761</td>\n",
       "      <td>480000.0</td>\n",
       "    </tr>\n",
       "    <tr>\n",
       "      <th>2</th>\n",
       "      <td>3</td>\n",
       "      <td>1.50</td>\n",
       "      <td>1540.0</td>\n",
       "      <td>9800</td>\n",
       "      <td>1.0</td>\n",
       "      <td>0</td>\n",
       "      <td>0</td>\n",
       "      <td>3</td>\n",
       "      <td>7</td>\n",
       "      <td>1010.0</td>\n",
       "      <td>530</td>\n",
       "      <td>1600</td>\n",
       "      <td>8250</td>\n",
       "      <td>180500.0</td>\n",
       "    </tr>\n",
       "    <tr>\n",
       "      <th>3</th>\n",
       "      <td>3</td>\n",
       "      <td>3.50</td>\n",
       "      <td>2380.0</td>\n",
       "      <td>6250</td>\n",
       "      <td>2.0</td>\n",
       "      <td>0</td>\n",
       "      <td>3</td>\n",
       "      <td>3</td>\n",
       "      <td>8</td>\n",
       "      <td>1670.0</td>\n",
       "      <td>710</td>\n",
       "      <td>2540</td>\n",
       "      <td>4010</td>\n",
       "      <td>495000.0</td>\n",
       "    </tr>\n",
       "    <tr>\n",
       "      <th>4</th>\n",
       "      <td>4</td>\n",
       "      <td>2.50</td>\n",
       "      <td>2230.0</td>\n",
       "      <td>8500</td>\n",
       "      <td>2.0</td>\n",
       "      <td>0</td>\n",
       "      <td>0</td>\n",
       "      <td>3</td>\n",
       "      <td>8</td>\n",
       "      <td>2230.0</td>\n",
       "      <td>0</td>\n",
       "      <td>2270</td>\n",
       "      <td>8770</td>\n",
       "      <td>325000.0</td>\n",
       "    </tr>\n",
       "  </tbody>\n",
       "</table>\n",
       "</div>"
      ],
      "text/plain": [
       "   bedrooms  bathrooms  sqft_living  sqft_lot  floors  waterfront  view  \\\n",
       "0         4       1.75       2120.0      7420     1.0           0     0   \n",
       "1         4       2.50       2180.0      9861     2.0           0     2   \n",
       "2         3       1.50       1540.0      9800     1.0           0     0   \n",
       "3         3       3.50       2380.0      6250     2.0           0     3   \n",
       "4         4       2.50       2230.0      8500     2.0           0     0   \n",
       "\n",
       "   condition  grade  sqft_above  sqft_basement  sqft_living15  sqft_lot15  \\\n",
       "0          4      7      1060.0           1060           1540        7420   \n",
       "1          3      8      2180.0              0           2390        9761   \n",
       "2          3      7      1010.0            530           1600        8250   \n",
       "3          3      8      1670.0            710           2540        4010   \n",
       "4          3      8      2230.0              0           2270        8770   \n",
       "\n",
       "      price  \n",
       "0  453000.0  \n",
       "1  480000.0  \n",
       "2  180500.0  \n",
       "3  495000.0  \n",
       "4  325000.0  "
      ]
     },
     "metadata": {},
     "execution_count": 2
    }
   ],
   "metadata": {}
  },
  {
   "cell_type": "markdown",
   "source": [
    "# Dataset Analysis"
   ],
   "metadata": {}
  },
  {
   "cell_type": "markdown",
   "source": [
    "# Handling missing values"
   ],
   "metadata": {}
  },
  {
   "cell_type": "code",
   "execution_count": 3,
   "source": [
    "data.isnull().sum()"
   ],
   "outputs": [
    {
     "output_type": "execute_result",
     "data": {
      "text/plain": [
       "bedrooms          0\n",
       "bathrooms         0\n",
       "sqft_living      14\n",
       "sqft_lot          0\n",
       "floors           13\n",
       "waterfront        0\n",
       "view              0\n",
       "condition         0\n",
       "grade             0\n",
       "sqft_above       14\n",
       "sqft_basement     0\n",
       "sqft_living15     0\n",
       "sqft_lot15        0\n",
       "price             0\n",
       "dtype: int64"
      ]
     },
     "metadata": {},
     "execution_count": 3
    }
   ],
   "metadata": {}
  },
  {
   "cell_type": "markdown",
   "source": [
    "\n",
    "## Imputation technique: Impute missing values with mean"
   ],
   "metadata": {}
  },
  {
   "cell_type": "code",
   "execution_count": 4,
   "source": [
    "data['sqft_living'] = data['sqft_living'].replace(np.NaN, data['sqft_living'].mean())\n",
    "data['floors'] = data['floors'].replace(np.NaN, data['floors'].mean())\n",
    "data['sqft_above'] = data['sqft_above'].replace(np.NaN, data['sqft_above'].mean())"
   ],
   "outputs": [],
   "metadata": {}
  },
  {
   "cell_type": "code",
   "execution_count": 5,
   "source": [
    "X = data.iloc[:, :-1].to_numpy().T\n",
    "y = data.iloc[:, -1].to_numpy().reshape(-1, 1)"
   ],
   "outputs": [],
   "metadata": {}
  },
  {
   "cell_type": "code",
   "execution_count": 6,
   "source": [
    "# Dataset Details\n",
    "X.shape, y.shape"
   ],
   "outputs": [
    {
     "output_type": "execute_result",
     "data": {
      "text/plain": [
       "((13, 1188), (1188, 1))"
      ]
     },
     "metadata": {},
     "execution_count": 6
    }
   ],
   "metadata": {}
  },
  {
   "cell_type": "markdown",
   "source": [
    "# Outlier Detection"
   ],
   "metadata": {}
  },
  {
   "cell_type": "code",
   "execution_count": 35,
   "source": [
    "center = np.mean(X, axis=1, keepdims=True)\n",
    "euclidean_distance = np.linalg.norm((X - center), ord=2, axis=0)"
   ],
   "outputs": [],
   "metadata": {}
  },
  {
   "cell_type": "code",
   "execution_count": 36,
   "source": [
    "np.mean(euclidean_distance), np.max(euclidean_distance), np.min(euclidean_distance)"
   ],
   "outputs": [
    {
     "output_type": "execute_result",
     "data": {
      "text/plain": [
       "(18961.199216798053, 1686824.3691954182, 1236.7105832029372)"
      ]
     },
     "metadata": {},
     "execution_count": 36
    }
   ],
   "metadata": {}
  },
  {
   "cell_type": "code",
   "execution_count": 47,
   "source": [
    "plt.scatter(range(len(euclidean_distance)), euclidean_distance)"
   ],
   "outputs": [
    {
     "output_type": "execute_result",
     "data": {
      "text/plain": [
       "<matplotlib.collections.PathCollection at 0x7fd39a6402b0>"
      ]
     },
     "metadata": {},
     "execution_count": 47
    },
    {
     "output_type": "display_data",
     "data": {
      "image/png": "[encoded data removed]",
      "text/plain": [
       "<Figure size 432x288 with 1 Axes>"
      ]
     },
     "metadata": {
      "needs_background": "light"
     }
    }
   ],
   "metadata": {}
  },
  {
   "cell_type": "code",
   "execution_count": 57,
   "source": [
    "outliers_count = np.sum(euclidean_distance > 25 * np.mean(euclidean_distance))\n",
    "outliers_count"
   ],
   "outputs": [
    {
     "output_type": "execute_result",
     "data": {
      "text/plain": [
       "2"
      ]
     },
     "metadata": {},
     "execution_count": 57
    }
   ],
   "metadata": {}
  },
  {
   "cell_type": "markdown",
   "source": [
    "# Preprocessing"
   ],
   "metadata": {}
  },
  {
   "cell_type": "code",
   "execution_count": 7,
   "source": [
    "# Preprocessing\n",
    "X_train, X_test, y_train, y_test = train_test_split(X, y, seed=42)\n",
    "X_train, X_test = standardize(X_train, X_test)\n",
    "y_train, y_test = standardize_targets(y_train, y_test)\n",
    "\n",
    "\n",
    "X_train.shape, y_train.shape, X_test.shape, y_test.shape"
   ],
   "outputs": [
    {
     "output_type": "execute_result",
     "data": {
      "text/plain": [
       "((13, 831), (831, 1), (13, 357), (357, 1))"
      ]
     },
     "metadata": {},
     "execution_count": 7
    }
   ],
   "metadata": {}
  },
  {
   "cell_type": "code",
   "execution_count": 8,
   "source": [
    "MODEL = LinearRegression(\n",
    "    num_features=X_train.shape[0], \n",
    "    learning_rate=0.01, \n",
    "    epochs=500, \n",
    "    GD='BatchGD'\n",
    ")"
   ],
   "outputs": [],
   "metadata": {}
  },
  {
   "cell_type": "code",
   "execution_count": 9,
   "source": [
    "MODEL.train(X_train, y_train, plot_loss_curves=True)"
   ],
   "outputs": [
    {
     "output_type": "stream",
     "name": "stdout",
     "text": [
      "Cost after iteration 50 : 0.22121474090530605\n",
      "Cost after iteration 100 : 0.20595045179701907\n",
      "Cost after iteration 150 : 0.20009152690488005\n",
      "Cost after iteration 200 : 0.19682619688328062\n",
      "Cost after iteration 250 : 0.19471359284923093\n",
      "Cost after iteration 300 : 0.19323348219315128\n",
      "Cost after iteration 350 : 0.19214992799258596\n",
      "Cost after iteration 400 : 0.19133551945225172\n",
      "Cost after iteration 450 : 0.1907127926276567\n",
      "Cost after iteration 500 : 0.19023087635799285\n"
     ]
    },
    {
     "output_type": "display_data",
     "data": {
      "image/png": "[encoded data removed]",
      "text/plain": [
       "<Figure size 432x288 with 1 Axes>"
      ]
     },
     "metadata": {
      "needs_background": "light"
     }
    }
   ],
   "metadata": {}
  },
  {
   "cell_type": "markdown",
   "source": [
    "# Greedy Forward Selection"
   ],
   "metadata": {}
  },
  {
   "cell_type": "code",
   "execution_count": 20,
   "source": [
    "def greedy_fwd(X, y, init_ft = []):\n",
    "    \"\"\"\n",
    "    Greedy forward selection algorithm\n",
    "    \"\"\"\n",
    "    ft = init_ft\n",
    "    n, d = X.shape\n",
    "    ls = []\n",
    "    cnt=1\n",
    "    while True:\n",
    "        #print(len(ft), end='\\n\\n\\n\\n\\n')\n",
    "        min_cost = np.inf\n",
    "        best_feature = -1\n",
    "        for i in range(n):\n",
    "            if i in ft:\n",
    "                continue\n",
    "            #print(i, n)\n",
    "            #print(X.shape, y.shape)\n",
    "            #print(X[ft+[i], :].shape, y.shape)\n",
    "            #MODEL2 = LinearRegression(num_features=X[ft+[i], :].shape[0], learning_rate=0.01, epochs=500, GD='BatchGD')\n",
    "            cost = LinearRegression(num_features=X[ft+[i], :].shape[0], learning_rate=0.01, epochs=500, GD='BatchGD').train(X[ft+[i], :], y, print_cost=False, plot_loss_curves=False, ret_final_cost=True)\n",
    "            if cost < min_cost:\n",
    "                min_cost = cost\n",
    "                best_feature = i\n",
    "            #print(i, cost, min_cost)\n",
    "        if best_feature == -1:\n",
    "            break\n",
    "        # print(\"before: \", ft)\n",
    "        ft.append(best_feature)\n",
    "        # print(\"after: \", ft)\n",
    "        # print([ft, min_cost])\n",
    "        # print(len(ft[:cnt]))\n",
    "        ls.append([ft[:cnt], min_cost])\n",
    "        cnt+=1\n",
    "    return ls"
   ],
   "outputs": [],
   "metadata": {}
  },
  {
   "cell_type": "code",
   "execution_count": 21,
   "source": [
    "greedy_fwd(X_train, y_train)"
   ],
   "outputs": [
    {
     "output_type": "execute_result",
     "data": {
      "text/plain": [
       "[[[2], 0.2369308267033663],\n",
       " [[2, 6], 0.21909227427838807],\n",
       " [[2, 6, 8], 0.20830687391198224],\n",
       " [[2, 6, 8, 0], 0.20416751714810033],\n",
       " [[2, 6, 8, 0, 7], 0.20080211073030735],\n",
       " [[2, 6, 8, 0, 7, 5], 0.19737191393363568],\n",
       " [[2, 6, 8, 0, 7, 5, 12], 0.19570533003683113],\n",
       " [[2, 6, 8, 0, 7, 5, 12, 10], 0.19549857648317437],\n",
       " [[2, 6, 8, 0, 7, 5, 12, 10, 9], 0.1903852630816853],\n",
       " [[2, 6, 8, 0, 7, 5, 12, 10, 9, 1], 0.18995501880789165],\n",
       " [[2, 6, 8, 0, 7, 5, 12, 10, 9, 1, 4], 0.18986219730152193],\n",
       " [[2, 6, 8, 0, 7, 5, 12, 10, 9, 1, 4, 3], 0.18986605118606345],\n",
       " [[2, 6, 8, 0, 7, 5, 12, 10, 9, 1, 4, 3, 11], 0.19023087635799285]]"
      ]
     },
     "metadata": {},
     "execution_count": 21
    }
   ],
   "metadata": {}
  },
  {
   "cell_type": "code",
   "execution_count": 42,
   "source": [
    "def greedy_bkwd(X, y):\n",
    "    \"\"\"\n",
    "    Greedy backward algorithm\n",
    "    \"\"\"\n",
    "    n, d = X.shape\n",
    "    ft = list(range(n))\n",
    "    sub_ft = ft\n",
    "    while len(sub_ft)>0:\n",
    "        min_cost = np.inf\n",
    "        worst_feature = -1\n",
    "        for i in range(n):\n",
    "            if i not in sub_ft:\n",
    "                continue\n",
    "            #print(ft, i)\n",
    "            temp_ft = [x for x in ft if x != i]\n",
    "            cost = LinearRegression(num_features=X[temp_ft, :].shape[0], learning_rate=0.01, epochs=500, GD='BatchGD').train(X[temp_ft, :], y, print_cost=False, plot_loss_curves=False, ret_final_cost=True)\n",
    "            if cost < min_cost:\n",
    "                min_cost = cost\n",
    "                worst_feature = i\n",
    "            #print(i, cost, min_cost)\n",
    "        if worst_feature == -1:\n",
    "            break\n",
    "        sub_ft.remove(worst_feature)\n",
    "        print([sub_ft, min_cost])\n",
    "        "
   ],
   "outputs": [],
   "metadata": {}
  },
  {
   "cell_type": "code",
   "execution_count": 43,
   "source": [
    "greedy_bkwd(X_train, y_train)"
   ],
   "outputs": [
    {
     "output_type": "stream",
     "name": "stdout",
     "text": [
      "[[0, 1, 2, 3, 4, 5, 6, 7, 8, 9, 10, 12], 0.18986605118606342]\n",
      "[[0, 1, 2, 4, 5, 6, 7, 8, 9, 10, 12], 0.18986219730152196]\n",
      "[[0, 1, 2, 5, 6, 7, 8, 9, 10, 12], 0.18995501880789165]\n",
      "[[0, 2, 5, 6, 7, 8, 9, 10, 12], 0.19038526308168535]\n",
      "[[0, 5, 6, 7, 8, 9, 10, 12], 0.19067416402374884]\n",
      "[[0, 5, 6, 7, 8, 9, 10], 0.1920750250588552]\n",
      "[[0, 6, 7, 8, 9, 10], 0.1948080487907407]\n",
      "[[0, 6, 8, 9, 10], 0.19736149108608644]\n",
      "[[6, 8, 9, 10], 0.20220616517817036]\n",
      "[[6, 9, 10], 0.2123822717625397]\n",
      "[[9, 10], 0.23248538005141006]\n",
      "[[9], 0.3048872545215674]\n",
      "[[], 0.49999999999999994]\n"
     ]
    }
   ],
   "metadata": {}
  },
  {
   "cell_type": "code",
   "execution_count": null,
   "source": [],
   "outputs": [],
   "metadata": {}
  }
 ],
 "metadata": {
  "interpreter": {
   "hash": "ac2b08c951dac2a338a7c84613525b650efa077f3ead3ddcf0c3dbf45296c55b"
  },
  "kernelspec": {
   "name": "python3",
   "display_name": "Python 3.8.11 64-bit ('fods': conda)"
  },
  "language_info": {
   "codemirror_mode": {
    "name": "ipython",
    "version": 3
   },
   "file_extension": ".py",
   "mimetype": "text/x-python",
   "name": "python",
   "nbconvert_exporter": "python",
   "pygments_lexer": "ipython3",
   "version": "3.8.11"
  },
  "orig_nbformat": 4
 },
 "nbformat": 4,
 "nbformat_minor": 2
}