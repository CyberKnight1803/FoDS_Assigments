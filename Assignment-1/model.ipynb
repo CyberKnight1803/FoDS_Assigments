{
 "cells": [
  {
   "cell_type": "code",
   "execution_count": 1,
   "source": [
    "import numpy as np \n",
    "import pandas as pd \n",
    "import matplotlib.pyplot as plt \n",
    "from utils import train_test_split, standardize, polynomialFeatures\n",
    "from utils import MSE_degree_plot\n",
    "from model import PolynomialRegression"
   ],
   "outputs": [],
   "metadata": {}
  },
  {
   "cell_type": "code",
   "execution_count": 2,
   "source": [
    "df = pd.read_csv('FoDS-A1.csv')\n",
    "# df = df.sample(frac=1, random_state=42)\n",
    "df.head()"
   ],
   "outputs": [
    {
     "output_type": "execute_result",
     "data": {
      "text/html": [
       "<div>\n",
       "<style scoped>\n",
       "    .dataframe tbody tr th:only-of-type {\n",
       "        vertical-align: middle;\n",
       "    }\n",
       "\n",
       "    .dataframe tbody tr th {\n",
       "        vertical-align: top;\n",
       "    }\n",
       "\n",
       "    .dataframe thead th {\n",
       "        text-align: right;\n",
       "    }\n",
       "</style>\n",
       "<table border=\"1\" class=\"dataframe\">\n",
       "  <thead>\n",
       "    <tr style=\"text-align: right;\">\n",
       "      <th></th>\n",
       "      <th>Strength</th>\n",
       "      <th>Temperature</th>\n",
       "      <th>Pressure</th>\n",
       "    </tr>\n",
       "  </thead>\n",
       "  <tbody>\n",
       "    <tr>\n",
       "      <th>0</th>\n",
       "      <td>30.7</td>\n",
       "      <td>240</td>\n",
       "      <td>16</td>\n",
       "    </tr>\n",
       "    <tr>\n",
       "      <th>1</th>\n",
       "      <td>24.7</td>\n",
       "      <td>250</td>\n",
       "      <td>18</td>\n",
       "    </tr>\n",
       "    <tr>\n",
       "      <th>2</th>\n",
       "      <td>30.6</td>\n",
       "      <td>260</td>\n",
       "      <td>16</td>\n",
       "    </tr>\n",
       "    <tr>\n",
       "      <th>3</th>\n",
       "      <td>32.8</td>\n",
       "      <td>240</td>\n",
       "      <td>10</td>\n",
       "    </tr>\n",
       "    <tr>\n",
       "      <th>4</th>\n",
       "      <td>20.7</td>\n",
       "      <td>240</td>\n",
       "      <td>20</td>\n",
       "    </tr>\n",
       "  </tbody>\n",
       "</table>\n",
       "</div>"
      ],
      "text/plain": [
       "   Strength  Temperature  Pressure\n",
       "0      30.7          240        16\n",
       "1      24.7          250        18\n",
       "2      30.6          260        16\n",
       "3      32.8          240        10\n",
       "4      20.7          240        20"
      ]
     },
     "metadata": {},
     "execution_count": 2
    }
   ],
   "metadata": {}
  },
  {
   "cell_type": "code",
   "execution_count": 3,
   "source": [
    "X = df[['Strength', 'Temperature']].to_numpy()\n",
    "y = df['Pressure'].to_numpy()\n",
    "y = y.reshape(-1, 1)\n",
    "X.shape, y.shape"
   ],
   "outputs": [
    {
     "output_type": "execute_result",
     "data": {
      "text/plain": [
       "((1650, 2), (1650, 1))"
      ]
     },
     "metadata": {},
     "execution_count": 3
    }
   ],
   "metadata": {}
  },
  {
   "cell_type": "code",
   "execution_count": 4,
   "source": [
    "BGD_MSE_train = []\n",
    "SGD_MSE_train = []\n",
    "BGD_MSE_test = []\n",
    "SGD_MSE_test = []"
   ],
   "outputs": [],
   "metadata": {}
  },
  {
   "cell_type": "markdown",
   "source": [
    "## Degree: 0"
   ],
   "metadata": {}
  },
  {
   "cell_type": "code",
   "execution_count": 5,
   "source": [
    "degree=0\n",
    "X_new = polynomialFeatures(X, degree=degree)\n",
    "X_train, X_test, y_train, y_test = train_test_split(X_new, y, 42)\n",
    "X_train, X_test = standardize(X_train, X_test) \n",
    "\n",
    "print(f\"Degree : {degree}\")\n",
    "pr = PolynomialRegression(X_train.shape[0], degree=degree, learning_rate=0.01, epochs=1000, GD='BatchGD')\n",
    "pr.train(X_train, y_train)"
   ],
   "outputs": [
    {
     "output_type": "stream",
     "name": "stdout",
     "text": [
      "Degree : 0\n",
      "Cost after iteration 50 : 46.91717962319684\n",
      "Cost after iteration 100 : 20.910611078854593\n",
      "Cost after iteration 150 : 11.39136590608625\n",
      "Cost after iteration 200 : 7.907014308343979\n",
      "Cost after iteration 250 : 6.631628935203256\n",
      "Cost after iteration 300 : 6.164796641046927\n",
      "Cost after iteration 350 : 5.993920923434933\n",
      "Cost after iteration 400 : 5.931374884450673\n",
      "Cost after iteration 450 : 5.908481011363896\n",
      "Cost after iteration 500 : 5.900101113397131\n",
      "Cost after iteration 550 : 5.897033799724725\n",
      "Cost after iteration 600 : 5.895911063719795\n",
      "Cost after iteration 650 : 5.895500106031278\n",
      "Cost after iteration 700 : 5.895349682226385\n",
      "Cost after iteration 750 : 5.8952946222488976\n",
      "Cost after iteration 800 : 5.895274468516427\n",
      "Cost after iteration 850 : 5.895267091598546\n",
      "Cost after iteration 900 : 5.8952643914080225\n",
      "Cost after iteration 950 : 5.895263403050963\n",
      "Cost after iteration 1000 : 5.895263041280315\n"
     ]
    },
    {
     "output_type": "display_data",
     "data": {
      "image/png": "[encoded data removed]",
      "text/plain": [
       "<Figure size 432x288 with 1 Axes>"
      ]
     },
     "metadata": {
      "needs_background": "light"
     }
    }
   ],
   "metadata": {}
  },
  {
   "cell_type": "code",
   "execution_count": 6,
   "source": [
    "test_mse = pr.evaluate(X_test, y_test)\n",
    "print(f\"Error on testing data, MSE : {test_mse}\")\n",
    "\n",
    "BGD_MSE_train.append(pr.costs[-1])\n",
    "BGD_MSE_test.append(test_mse)"
   ],
   "outputs": [
    {
     "output_type": "stream",
     "name": "stdout",
     "text": [
      "Error on testing data, MSE : 5.690253477661287\n"
     ]
    }
   ],
   "metadata": {}
  },
  {
   "cell_type": "code",
   "execution_count": 7,
   "source": [
    "pr = PolynomialRegression(0, degree=0, learning_rate=0.001, epochs=5, GD='StochasticGD')\n",
    "pr.train(X_train, y_train)"
   ],
   "outputs": [
    {
     "output_type": "stream",
     "name": "stdout",
     "text": [
      "Cost after epoch 1: 30.089230925903284\n",
      "Cost after epoch 2: 10.27113576488721\n",
      "Cost after epoch 3: 6.184106687320864\n",
      "Cost after epoch 4: 5.110684114495831\n",
      "Cost after epoch 5: 4.793855718023945\n"
     ]
    },
    {
     "output_type": "display_data",
     "data": {
      "image/png": "[encoded data removed]",
      "text/plain": [
       "<Figure size 432x288 with 1 Axes>"
      ]
     },
     "metadata": {
      "needs_background": "light"
     }
    }
   ],
   "metadata": {}
  },
  {
   "cell_type": "code",
   "execution_count": 8,
   "source": [
    "test_mse = pr.evaluate(X_test, y_test)\n",
    "print(f\"Error on testing data, MSE : {test_mse}\")\n",
    "\n",
    "SGD_MSE_train.append(pr.costs[-1])\n",
    "SGD_MSE_test.append(test_mse)"
   ],
   "outputs": [
    {
     "output_type": "stream",
     "name": "stdout",
     "text": [
      "Error on testing data, MSE : 5.69895242105457\n"
     ]
    }
   ],
   "metadata": {}
  },
  {
   "cell_type": "markdown",
   "source": [
    "## Degree: 1"
   ],
   "metadata": {}
  },
  {
   "cell_type": "code",
   "execution_count": 9,
   "source": [
    "degree=1\n",
    "X_new = polynomialFeatures(X, degree=degree)\n",
    "X_train, X_test, y_train, y_test = train_test_split(X_new, y, 42)\n",
    "X_train, X_test = standardize(X_train, X_test) \n",
    "\n",
    "print(f\"Degree : {degree}\")\n",
    "pr = PolynomialRegression(X_train.shape[0], degree=degree, learning_rate=0.01, epochs=1400, GD='BatchGD')\n",
    "pr.train(X_train, y_train)"
   ],
   "outputs": [
    {
     "output_type": "stream",
     "name": "stdout",
     "text": [
      "Degree : 1\n",
      "Cost after iteration 50 : 46.04022067826685\n",
      "Cost after iteration 100 : 19.483156099992264\n",
      "Cost after iteration 150 : 9.518607254709712\n",
      "Cost after iteration 200 : 5.6529150252103495\n",
      "Cost after iteration 250 : 4.047491153629957\n",
      "Cost after iteration 300 : 3.294481425440821\n",
      "Cost after iteration 350 : 2.8753774739158144\n",
      "Cost after iteration 400 : 2.597507353815912\n",
      "Cost after iteration 450 : 2.387829959759365\n",
      "Cost after iteration 500 : 2.2174238367815216\n",
      "Cost after iteration 550 : 2.07380608264746\n",
      "Cost after iteration 600 : 1.950762173389072\n",
      "Cost after iteration 650 : 1.8445900911541113\n",
      "Cost after iteration 700 : 1.752696656787919\n",
      "Cost after iteration 750 : 1.6730586685310638\n",
      "Cost after iteration 800 : 1.6040039100355141\n",
      "Cost after iteration 850 : 1.5441121237614917\n",
      "Cost after iteration 900 : 1.492162396478579\n",
      "Cost after iteration 950 : 1.4470997025331769\n",
      "Cost after iteration 1000 : 1.4080103413686023\n",
      "Cost after iteration 1050 : 1.374102263085082\n",
      "Cost after iteration 1100 : 1.3446885992623412\n",
      "Cost after iteration 1150 : 1.3191735953992372\n",
      "Cost after iteration 1200 : 1.2970404879935296\n",
      "Cost after iteration 1250 : 1.2778410177573218\n",
      "Cost after iteration 1300 : 1.2611863435296211\n",
      "Cost after iteration 1350 : 1.2467391644307886\n",
      "Cost after iteration 1400 : 1.234206887623485\n"
     ]
    },
    {
     "output_type": "display_data",
     "data": {
      "image/png": "[encoded data removed]",
      "text/plain": [
       "<Figure size 432x288 with 1 Axes>"
      ]
     },
     "metadata": {
      "needs_background": "light"
     }
    }
   ],
   "metadata": {}
  },
  {
   "cell_type": "code",
   "execution_count": 10,
   "source": [
    "test_mse = pr.evaluate(X_test, y_test)\n",
    "print(f\"Error on testing data, MSE : {test_mse}\")\n",
    "\n",
    "BGD_MSE_train.append(pr.costs[-1])\n",
    "BGD_MSE_test.append(test_mse)"
   ],
   "outputs": [
    {
     "output_type": "stream",
     "name": "stdout",
     "text": [
      "Error on testing data, MSE : 1.2250967294851116\n"
     ]
    }
   ],
   "metadata": {}
  },
  {
   "cell_type": "code",
   "execution_count": 11,
   "source": [
    "pr = PolynomialRegression(X_train.shape[0], degree=degree, learning_rate=0.0005, epochs=2, GD='StochasticGD')\n",
    "pr.train(X_train, y_train)"
   ],
   "outputs": [
    {
     "output_type": "stream",
     "name": "stdout",
     "text": [
      "Cost after epoch 1: 44.196537934505095\n",
      "Cost after epoch 2: 0.18403703361861734\n"
     ]
    },
    {
     "output_type": "display_data",
     "data": {
      "image/png": "[encoded data removed]",
      "text/plain": [
       "<Figure size 432x288 with 1 Axes>"
      ]
     },
     "metadata": {
      "needs_background": "light"
     }
    }
   ],
   "metadata": {}
  },
  {
   "cell_type": "code",
   "execution_count": 12,
   "source": [
    "test_mse = pr.evaluate(X_test, y_test)\n",
    "print(f\"Error on testing data, MSE : {test_mse}\")\n",
    "\n",
    "SGD_MSE_train.append(pr.costs[-1])\n",
    "SGD_MSE_test.append(test_mse)"
   ],
   "outputs": [
    {
     "output_type": "stream",
     "name": "stdout",
     "text": [
      "Error on testing data, MSE : 6.7420139514667\n"
     ]
    }
   ],
   "metadata": {}
  },
  {
   "cell_type": "markdown",
   "source": [
    "## Degree: 2"
   ],
   "metadata": {}
  },
  {
   "cell_type": "code",
   "execution_count": 13,
   "source": [
    "degree=2\n",
    "X_new = polynomialFeatures(X, degree=degree)\n",
    "X_train, X_test, y_train, y_test = train_test_split(X_new, y, 42)\n",
    "X_train, X_test = standardize(X_train, X_test) \n",
    "\n",
    "print(f\"Degree : {degree}\")\n",
    "pr = PolynomialRegression(X_train.shape[0], degree=degree, learning_rate=0.01, epochs=1400, GD='BatchGD')\n",
    "pr.train(X_train, y_train)"
   ],
   "outputs": [
    {
     "output_type": "stream",
     "name": "stdout",
     "text": [
      "Degree : 2\n",
      "Cost after iteration 50 : 45.44029536546442\n",
      "Cost after iteration 100 : 18.62229875593276\n",
      "Cost after iteration 150 : 8.500167739086335\n",
      "Cost after iteration 200 : 4.5660906893985445\n",
      "Cost after iteration 250 : 2.955170571520421\n",
      "Cost after iteration 300 : 2.2379544592886886\n",
      "Cost after iteration 350 : 1.8801917305847835\n",
      "Cost after iteration 400 : 1.6781085214309799\n",
      "Cost after iteration 450 : 1.5509869019645557\n",
      "Cost after iteration 500 : 1.4647104177266308\n",
      "Cost after iteration 550 : 1.4033827874627172\n",
      "Cost after iteration 600 : 1.3586437699892338\n",
      "Cost after iteration 650 : 1.3255379604973925\n",
      "Cost after iteration 700 : 1.3008382407021628\n",
      "Cost after iteration 750 : 1.2823095215219416\n",
      "Cost after iteration 800 : 1.2683478398091284\n",
      "Cost after iteration 850 : 1.2577800944130804\n",
      "Cost after iteration 900 : 1.249739916609385\n",
      "Cost after iteration 950 : 1.2435843345865119\n",
      "Cost after iteration 1000 : 1.2388350087903615\n",
      "Cost after iteration 1050 : 1.235135648499957\n",
      "Cost after iteration 1100 : 1.2322207108021894\n",
      "Cost after iteration 1150 : 1.229892225771453\n",
      "Cost after iteration 1200 : 1.2280025761821027\n",
      "Cost after iteration 1250 : 1.226441678944673\n",
      "Cost after iteration 1300 : 1.2251274347348973\n",
      "Cost after iteration 1350 : 1.223998609486007\n",
      "Cost after iteration 1400 : 1.2230095273776782\n"
     ]
    },
    {
     "output_type": "display_data",
     "data": {
      "image/png": "[encoded data removed]",
      "text/plain": [
       "<Figure size 432x288 with 1 Axes>"
      ]
     },
     "metadata": {
      "needs_background": "light"
     }
    }
   ],
   "metadata": {}
  },
  {
   "cell_type": "code",
   "execution_count": 14,
   "source": [
    "test_mse = pr.evaluate(X_test, y_test)\n",
    "print(f\"Error on testing data, MSE : {test_mse}\")\n",
    "\n",
    "BGD_MSE_train.append(pr.costs[-1])\n",
    "BGD_MSE_test.append(test_mse)"
   ],
   "outputs": [
    {
     "output_type": "stream",
     "name": "stdout",
     "text": [
      "Error on testing data, MSE : 1.2425561719215243\n"
     ]
    }
   ],
   "metadata": {}
  },
  {
   "cell_type": "code",
   "execution_count": 15,
   "source": [
    "pr = PolynomialRegression(X_train.shape[0], degree=degree, learning_rate=0.001, epochs=1, GD='StochasticGD')\n",
    "pr.train(X_train, y_train)"
   ],
   "outputs": [
    {
     "output_type": "stream",
     "name": "stdout",
     "text": [
      "Cost after epoch 1: 0.0009874128077126739\n"
     ]
    },
    {
     "output_type": "display_data",
     "data": {
      "image/png": "[encoded data removed]",
      "text/plain": [
       "<Figure size 432x288 with 1 Axes>"
      ]
     },
     "metadata": {
      "needs_background": "light"
     }
    }
   ],
   "metadata": {}
  },
  {
   "cell_type": "code",
   "execution_count": 16,
   "source": [
    "test_mse = pr.evaluate(X_test, y_test)\n",
    "print(f\"Error on testing data, MSE : {test_mse}\")\n",
    "\n",
    "SGD_MSE_train.append(pr.costs[-1])\n",
    "SGD_MSE_test.append(test_mse)"
   ],
   "outputs": [
    {
     "output_type": "stream",
     "name": "stdout",
     "text": [
      "Error on testing data, MSE : 5.925627204449026\n"
     ]
    }
   ],
   "metadata": {}
  },
  {
   "cell_type": "markdown",
   "source": [
    "## Degree: 3"
   ],
   "metadata": {}
  },
  {
   "cell_type": "code",
   "execution_count": 17,
   "source": [
    "degree= 3\n",
    "X_new = polynomialFeatures(X, degree=degree)\n",
    "X_train, X_test, y_train, y_test = train_test_split(X_new, y, 42)\n",
    "X_train, X_test = standardize(X_train, X_test) \n",
    "\n",
    "print(f\"Degree : {degree}\")\n",
    "pr = PolynomialRegression(X_train.shape[0], degree=degree, learning_rate=0.01, epochs=1400, GD='BatchGD')\n",
    "pr.train(X_train, y_train)"
   ],
   "outputs": [
    {
     "output_type": "stream",
     "name": "stdout",
     "text": [
      "Degree : 3\n",
      "Cost after iteration 50 : 44.974430220803846\n",
      "Cost after iteration 100 : 18.01725953319262\n",
      "Cost after iteration 150 : 7.90312059065093\n",
      "Cost after iteration 200 : 4.0452224159876415\n",
      "Cost after iteration 250 : 2.5341017458472006\n",
      "Cost after iteration 300 : 1.9173837678086059\n",
      "Cost after iteration 350 : 1.6501483801153323\n",
      "Cost after iteration 400 : 1.5246593569610056\n",
      "Cost after iteration 450 : 1.459726836642222\n",
      "Cost after iteration 500 : 1.422425491043176\n",
      "Cost after iteration 550 : 1.3987058785601298\n",
      "Cost after iteration 600 : 1.3821801265319917\n",
      "Cost after iteration 650 : 1.3697328127625998\n",
      "Cost after iteration 700 : 1.3597375692209526\n",
      "Cost after iteration 750 : 1.3512943115980558\n",
      "Cost after iteration 800 : 1.3438816272638274\n",
      "Cost after iteration 850 : 1.337186983505268\n",
      "Cost after iteration 900 : 1.3310181070322775\n",
      "Cost after iteration 950 : 1.3252540780835598\n",
      "Cost after iteration 1000 : 1.319817183143426\n",
      "Cost after iteration 1050 : 1.3146562358216787\n",
      "Cost after iteration 1100 : 1.3097365024781762\n",
      "Cost after iteration 1150 : 1.3050335426097557\n",
      "Cost after iteration 1200 : 1.3005294135077305\n",
      "Cost after iteration 1250 : 1.2962103197023873\n",
      "Cost after iteration 1300 : 1.2920651517282646\n",
      "Cost after iteration 1350 : 1.2880845747364706\n",
      "Cost after iteration 1400 : 1.2842604580079113\n"
     ]
    },
    {
     "output_type": "display_data",
     "data": {
      "image/png": "[encoded data removed]",
      "text/plain": [
       "<Figure size 432x288 with 1 Axes>"
      ]
     },
     "metadata": {
      "needs_background": "light"
     }
    }
   ],
   "metadata": {}
  },
  {
   "cell_type": "code",
   "execution_count": 18,
   "source": [
    "test_mse = pr.evaluate(X_test, y_test)\n",
    "print(f\"Error on testing data, MSE : {test_mse}\")\n",
    "\n",
    "BGD_MSE_train.append(pr.costs[-1])\n",
    "BGD_MSE_test.append(test_mse)"
   ],
   "outputs": [
    {
     "output_type": "stream",
     "name": "stdout",
     "text": [
      "Error on testing data, MSE : 1.291511716209471\n"
     ]
    }
   ],
   "metadata": {}
  },
  {
   "cell_type": "code",
   "execution_count": 19,
   "source": [
    "pr = PolynomialRegression(X_train.shape[0], degree=degree, learning_rate=0.001, epochs=1, GD='StochasticGD')\n",
    "pr.train(X_train, y_train)"
   ],
   "outputs": [
    {
     "output_type": "stream",
     "name": "stdout",
     "text": [
      "Cost after epoch 1: 0.2244443878789955\n"
     ]
    },
    {
     "output_type": "display_data",
     "data": {
      "image/png": "[encoded data removed]",
      "text/plain": [
       "<Figure size 432x288 with 1 Axes>"
      ]
     },
     "metadata": {
      "needs_background": "light"
     }
    }
   ],
   "metadata": {}
  },
  {
   "cell_type": "code",
   "execution_count": 20,
   "source": [
    "test_mse = pr.evaluate(X_test, y_test)\n",
    "print(f\"Error on testing data, MSE : {test_mse}\")\n",
    "\n",
    "SGD_MSE_train.append(pr.costs[-1])\n",
    "SGD_MSE_test.append(test_mse)"
   ],
   "outputs": [
    {
     "output_type": "stream",
     "name": "stdout",
     "text": [
      "Error on testing data, MSE : 5.389498826628728\n"
     ]
    }
   ],
   "metadata": {}
  },
  {
   "cell_type": "markdown",
   "source": [
    "## Degree: 4"
   ],
   "metadata": {}
  },
  {
   "cell_type": "code",
   "execution_count": 21,
   "source": [
    "degree= 4\n",
    "X_new = polynomialFeatures(X, degree=degree)\n",
    "X_train, X_test, y_train, y_test = train_test_split(X_new, y, 42)\n",
    "X_train, X_test = standardize(X_train, X_test) \n",
    "\n",
    "print(f\"Degree : {degree}\")\n",
    "pr = PolynomialRegression(X_train.shape[0], degree=degree, learning_rate=0.01, epochs=1400, GD='BatchGD')\n",
    "pr.train(X_train, y_train)"
   ],
   "outputs": [
    {
     "output_type": "stream",
     "name": "stdout",
     "text": [
      "Degree : 4\n",
      "Cost after iteration 50 : 44.59795328686979\n",
      "Cost after iteration 100 : 17.639225637138043\n",
      "Cost after iteration 150 : 7.6294399733130875\n",
      "Cost after iteration 200 : 3.883969687057603\n",
      "Cost after iteration 250 : 2.4623092173147434\n",
      "Cost after iteration 300 : 1.9074256137372887\n",
      "Cost after iteration 350 : 1.6786704800540864\n",
      "Cost after iteration 400 : 1.5744533963200222\n",
      "Cost after iteration 450 : 1.5190875005728333\n",
      "Cost after iteration 500 : 1.483863709889148\n",
      "Cost after iteration 550 : 1.4577150926148739\n",
      "Cost after iteration 600 : 1.4362585878276055\n",
      "Cost after iteration 650 : 1.4176746982488546\n",
      "Cost after iteration 700 : 1.40114497396481\n",
      "Cost after iteration 750 : 1.3862528137466947\n",
      "Cost after iteration 800 : 1.3727502615454072\n",
      "Cost after iteration 850 : 1.3604654085586434\n",
      "Cost after iteration 900 : 1.3492645715051454\n",
      "Cost after iteration 950 : 1.3390361868116738\n",
      "Cost after iteration 1000 : 1.329683506269905\n",
      "Cost after iteration 1050 : 1.3211209632825043\n",
      "Cost after iteration 1100 : 1.3132721298957395\n",
      "Cost after iteration 1150 : 1.3060684014136585\n",
      "Cost after iteration 1200 : 1.299448040117199\n",
      "Cost after iteration 1250 : 1.293355415265695\n",
      "Cost after iteration 1300 : 1.2877403641400378\n",
      "Cost after iteration 1350 : 1.2825576371901288\n",
      "Cost after iteration 1400 : 1.2777664076119444\n"
     ]
    },
    {
     "output_type": "display_data",
     "data": {
      "image/png": "[encoded data removed]",
      "text/plain": [
       "<Figure size 432x288 with 1 Axes>"
      ]
     },
     "metadata": {
      "needs_background": "light"
     }
    }
   ],
   "metadata": {}
  },
  {
   "cell_type": "code",
   "execution_count": 22,
   "source": [
    "test_mse = pr.evaluate(X_test, y_test)\n",
    "print(f\"Error on testing data, MSE : {test_mse}\")\n",
    "\n",
    "BGD_MSE_train.append(pr.costs[-1])\n",
    "BGD_MSE_test.append(test_mse)"
   ],
   "outputs": [
    {
     "output_type": "stream",
     "name": "stdout",
     "text": [
      "Error on testing data, MSE : 1.2782515284756562\n"
     ]
    }
   ],
   "metadata": {}
  },
  {
   "cell_type": "code",
   "execution_count": 23,
   "source": [
    "pr = PolynomialRegression(X_train.shape[0], degree=degree, learning_rate=0.001, epochs=1, GD='StochasticGD')\n",
    "pr.train(X_train, y_train)"
   ],
   "outputs": [
    {
     "output_type": "stream",
     "name": "stdout",
     "text": [
      "Cost after epoch 1: 0.7632857871359149\n"
     ]
    },
    {
     "output_type": "display_data",
     "data": {
      "image/png": "[encoded data removed]",
      "text/plain": [
       "<Figure size 432x288 with 1 Axes>"
      ]
     },
     "metadata": {
      "needs_background": "light"
     }
    }
   ],
   "metadata": {}
  },
  {
   "cell_type": "code",
   "execution_count": 24,
   "source": [
    "test_mse = pr.evaluate(X_test, y_test)\n",
    "print(f\"Error on testing data, MSE : {test_mse}\")\n",
    "\n",
    "SGD_MSE_train.append(pr.costs[-1])\n",
    "SGD_MSE_test.append(test_mse)"
   ],
   "outputs": [
    {
     "output_type": "stream",
     "name": "stdout",
     "text": [
      "Error on testing data, MSE : 5.099734524346724\n"
     ]
    }
   ],
   "metadata": {}
  },
  {
   "cell_type": "markdown",
   "source": [
    "## Degree: 5"
   ],
   "metadata": {}
  },
  {
   "cell_type": "code",
   "execution_count": 25,
   "source": [
    "degree= 5\n",
    "X_new = polynomialFeatures(X, degree=degree)\n",
    "X_train, X_test, y_train, y_test = train_test_split(X_new, y, 42)\n",
    "X_train, X_test = standardize(X_train, X_test) \n",
    "\n",
    "print(f\"Degree : {degree}\")\n",
    "pr = PolynomialRegression(X_train.shape[0], degree=degree, learning_rate=0.01, epochs=1400, GD='BatchGD')\n",
    "pr.train(X_train, y_train)"
   ],
   "outputs": [
    {
     "output_type": "stream",
     "name": "stdout",
     "text": [
      "Degree : 5\n",
      "Cost after iteration 50 : 44.31772140251893\n",
      "Cost after iteration 100 : 17.45102395108921\n",
      "Cost after iteration 150 : 7.554017414556035\n",
      "Cost after iteration 200 : 3.8775181650050743\n",
      "Cost after iteration 250 : 2.48630717921775\n",
      "Cost after iteration 300 : 1.9388358984593226\n",
      "Cost after iteration 350 : 1.7063091173892395\n",
      "Cost after iteration 400 : 1.5941536336857791\n",
      "Cost after iteration 450 : 1.53028344169796\n",
      "Cost after iteration 500 : 1.4875888481998762\n",
      "Cost after iteration 550 : 1.4555463297062747\n",
      "Cost after iteration 600 : 1.4298074152061895\n",
      "Cost after iteration 650 : 1.4083704273259152\n",
      "Cost after iteration 700 : 1.3901643043040512\n",
      "Cost after iteration 750 : 1.3745177532447597\n",
      "Cost after iteration 800 : 1.3609545891384178\n",
      "Cost after iteration 850 : 1.3491102644747426\n",
      "Cost after iteration 900 : 1.3386942546162757\n",
      "Cost after iteration 950 : 1.3294704665598127\n",
      "Cost after iteration 1000 : 1.3212452677407582\n",
      "Cost after iteration 1050 : 1.3138591477494086\n",
      "Cost after iteration 1100 : 1.3071804054043374\n",
      "Cost after iteration 1150 : 1.301100150512885\n",
      "Cost after iteration 1200 : 1.2955282593790551\n",
      "Cost after iteration 1250 : 1.2903900688418088\n",
      "Cost after iteration 1300 : 1.285623661575365\n",
      "Cost after iteration 1350 : 1.2811776322993593\n",
      "Cost after iteration 1400 : 1.2770092479872608\n"
     ]
    },
    {
     "output_type": "display_data",
     "data": {
      "image/png": "[encoded data removed]",
      "text/plain": [
       "<Figure size 432x288 with 1 Axes>"
      ]
     },
     "metadata": {
      "needs_background": "light"
     }
    }
   ],
   "metadata": {}
  },
  {
   "cell_type": "code",
   "execution_count": 26,
   "source": [
    "test_mse = pr.evaluate(X_test, y_test)\n",
    "print(f\"Error on testing data, MSE : {test_mse}\")\n",
    "\n",
    "BGD_MSE_train.append(pr.costs[-1])\n",
    "BGD_MSE_test.append(test_mse)"
   ],
   "outputs": [
    {
     "output_type": "stream",
     "name": "stdout",
     "text": [
      "Error on testing data, MSE : 1.2740963043080675\n"
     ]
    }
   ],
   "metadata": {}
  },
  {
   "cell_type": "code",
   "execution_count": 27,
   "source": [
    "pr = PolynomialRegression(X_train.shape[0], degree=degree, learning_rate=0.0009, epochs=1, GD='StochasticGD')\n",
    "pr.train(X_train, y_train)"
   ],
   "outputs": [
    {
     "output_type": "stream",
     "name": "stdout",
     "text": [
      "Cost after epoch 1: 0.01961666398096578\n"
     ]
    },
    {
     "output_type": "display_data",
     "data": {
      "image/png": "[encoded data removed]",
      "text/plain": [
       "<Figure size 432x288 with 1 Axes>"
      ]
     },
     "metadata": {
      "needs_background": "light"
     }
    }
   ],
   "metadata": {}
  },
  {
   "cell_type": "code",
   "execution_count": 28,
   "source": [
    "test_mse = pr.evaluate(X_test, y_test)\n",
    "print(f\"Error on testing data, MSE : {test_mse}\")\n",
    "\n",
    "SGD_MSE_train.append(pr.costs[-1])\n",
    "SGD_MSE_test.append(test_mse)"
   ],
   "outputs": [
    {
     "output_type": "stream",
     "name": "stdout",
     "text": [
      "Error on testing data, MSE : 2.6709603208221417\n"
     ]
    }
   ],
   "metadata": {}
  },
  {
   "cell_type": "markdown",
   "source": [
    "## Degree: 6"
   ],
   "metadata": {}
  },
  {
   "cell_type": "code",
   "execution_count": 29,
   "source": [
    "degree= 6\n",
    "X_new = polynomialFeatures(X, degree=degree)\n",
    "X_train, X_test, y_train, y_test = train_test_split(X_new, y, 42)\n",
    "X_train, X_test = standardize(X_train, X_test) \n",
    "\n",
    "print(f\"Degree : {degree}\")\n",
    "pr = PolynomialRegression(X_train.shape[0], degree=degree, learning_rate=0.01, epochs=1400, GD='BatchGD')\n",
    "pr.train(X_train, y_train)"
   ],
   "outputs": [
    {
     "output_type": "stream",
     "name": "stdout",
     "text": [
      "Degree : 6\n",
      "Cost after iteration 50 : 44.13246617654008\n",
      "Cost after iteration 100 : 17.3821506713592\n",
      "Cost after iteration 150 : 7.547681430883793\n",
      "Cost after iteration 200 : 3.884849553758665\n",
      "Cost after iteration 250 : 2.4887127929432835\n",
      "Cost after iteration 300 : 1.933344885405102\n",
      "Cost after iteration 350 : 1.6952309576464446\n",
      "Cost after iteration 400 : 1.5806065529060298\n",
      "Cost after iteration 450 : 1.5167390438119412\n",
      "Cost after iteration 500 : 1.4756199928555722\n",
      "Cost after iteration 550 : 1.4459643447083315\n",
      "Cost after iteration 600 : 1.4228774692658464\n",
      "Cost after iteration 650 : 1.4040037293921952\n",
      "Cost after iteration 700 : 1.388064095983215\n",
      "Cost after iteration 750 : 1.3742818298119732\n",
      "Cost after iteration 800 : 1.362143535273187\n",
      "Cost after iteration 850 : 1.3512906109935254\n",
      "Cost after iteration 900 : 1.3414640494918029\n",
      "Cost after iteration 950 : 1.332472888058765\n",
      "Cost after iteration 1000 : 1.3241743405257875\n",
      "Cost after iteration 1050 : 1.3164604213286302\n",
      "Cost after iteration 1100 : 1.3092485709402932\n",
      "Cost after iteration 1150 : 1.3024749371613746\n",
      "Cost after iteration 1200 : 1.2960895018402576\n",
      "Cost after iteration 1250 : 1.290052523353376\n",
      "Cost after iteration 1300 : 1.2843319301693834\n",
      "Cost after iteration 1350 : 1.2789014068223195\n",
      "Cost after iteration 1400 : 1.2737389858462858\n"
     ]
    },
    {
     "output_type": "display_data",
     "data": {
      "image/png": "[encoded data removed]",
      "text/plain": [
       "<Figure size 432x288 with 1 Axes>"
      ]
     },
     "metadata": {
      "needs_background": "light"
     }
    }
   ],
   "metadata": {}
  },
  {
   "cell_type": "code",
   "execution_count": 30,
   "source": [
    "test_mse = pr.evaluate(X_test, y_test)\n",
    "print(f\"Error on testing data, MSE : {test_mse}\")\n",
    "\n",
    "BGD_MSE_train.append(pr.costs[-1])\n",
    "BGD_MSE_test.append(test_mse)"
   ],
   "outputs": [
    {
     "output_type": "stream",
     "name": "stdout",
     "text": [
      "Error on testing data, MSE : 1.2662532183642807\n"
     ]
    }
   ],
   "metadata": {}
  },
  {
   "cell_type": "code",
   "execution_count": 31,
   "source": [
    "pr = PolynomialRegression(X_train.shape[0], degree=degree, learning_rate=0.001, epochs=1, GD='StochasticGD')\n",
    "pr.train(X_train, y_train)"
   ],
   "outputs": [
    {
     "output_type": "stream",
     "name": "stdout",
     "text": [
      "Cost after epoch 1: 1.8796756319328611\n"
     ]
    },
    {
     "output_type": "display_data",
     "data": {
      "image/png": "[encoded data removed]",
      "text/plain": [
       "<Figure size 432x288 with 1 Axes>"
      ]
     },
     "metadata": {
      "needs_background": "light"
     }
    }
   ],
   "metadata": {}
  },
  {
   "cell_type": "code",
   "execution_count": 32,
   "source": [
    "test_mse = pr.evaluate(X_test, y_test)\n",
    "print(f\"Error on testing data, MSE : {test_mse}\")\n",
    "\n",
    "SGD_MSE_train.append(pr.costs[-1])\n",
    "SGD_MSE_test.append(test_mse)"
   ],
   "outputs": [
    {
     "output_type": "stream",
     "name": "stdout",
     "text": [
      "Error on testing data, MSE : 4.948955950092389\n"
     ]
    }
   ],
   "metadata": {}
  },
  {
   "cell_type": "markdown",
   "source": [
    "## Degree: 7"
   ],
   "metadata": {}
  },
  {
   "cell_type": "code",
   "execution_count": 33,
   "source": [
    "degree= 7\n",
    "X_new = polynomialFeatures(X, degree=degree)\n",
    "X_train, X_test, y_train, y_test = train_test_split(X_new, y, 42)\n",
    "X_train, X_test = standardize(X_train, X_test) \n",
    "\n",
    "print(f\"Degree : {degree}\")\n",
    "pr = PolynomialRegression(X_train.shape[0], degree=degree, learning_rate=0.01, epochs=1400, GD='BatchGD')\n",
    "pr.train(X_train, y_train)"
   ],
   "outputs": [
    {
     "output_type": "stream",
     "name": "stdout",
     "text": [
      "Degree : 7\n",
      "Cost after iteration 50 : 44.02484524584798\n",
      "Cost after iteration 100 : 17.360024532551886\n",
      "Cost after iteration 150 : 7.53917081584531\n",
      "Cost after iteration 200 : 3.8711169595666086\n",
      "Cost after iteration 250 : 2.472267147820294\n",
      "Cost after iteration 300 : 1.9187701387903053\n",
      "Cost after iteration 350 : 1.6849443395589303\n",
      "Cost after iteration 400 : 1.5750560259866992\n",
      "Cost after iteration 450 : 1.5152646758270853\n",
      "Cost after iteration 500 : 1.4771135551250023\n",
      "Cost after iteration 550 : 1.4492549047148942\n",
      "Cost after iteration 600 : 1.42692232700236\n",
      "Cost after iteration 650 : 1.407962981390152\n",
      "Cost after iteration 700 : 1.3913122247557468\n",
      "Cost after iteration 750 : 1.3763886935959944\n",
      "Cost after iteration 800 : 1.3628431403570553\n",
      "Cost after iteration 850 : 1.350447483965687\n",
      "Cost after iteration 900 : 1.3390420182871345\n",
      "Cost after iteration 950 : 1.3285082642903476\n",
      "Cost after iteration 1000 : 1.3187539864115327\n",
      "Cost after iteration 1050 : 1.3097044342708408\n",
      "Cost after iteration 1100 : 1.3012969959754244\n",
      "Cost after iteration 1150 : 1.2934778254311206\n",
      "Cost after iteration 1200 : 1.2861996576979349\n",
      "Cost after iteration 1250 : 1.2794203590823787\n",
      "Cost after iteration 1300 : 1.2731019403659054\n",
      "Cost after iteration 1350 : 1.2672098662503686\n",
      "Cost after iteration 1400 : 1.2617125567312826\n"
     ]
    },
    {
     "output_type": "display_data",
     "data": {
      "image/png": "[encoded data removed]",
      "text/plain": [
       "<Figure size 432x288 with 1 Axes>"
      ]
     },
     "metadata": {
      "needs_background": "light"
     }
    }
   ],
   "metadata": {}
  },
  {
   "cell_type": "code",
   "execution_count": 34,
   "source": [
    "test_mse = pr.evaluate(X_test, y_test)\n",
    "print(f\"Error on testing data, MSE : {test_mse}\")\n",
    "\n",
    "BGD_MSE_train.append(pr.costs[-1])\n",
    "BGD_MSE_test.append(test_mse)"
   ],
   "outputs": [
    {
     "output_type": "stream",
     "name": "stdout",
     "text": [
      "Error on testing data, MSE : 1.249511976888841\n"
     ]
    }
   ],
   "metadata": {}
  },
  {
   "cell_type": "code",
   "execution_count": 35,
   "source": [
    "pr = PolynomialRegression(X_train.shape[0], degree=degree, learning_rate=0.001, epochs=1, GD='StochasticGD')\n",
    "pr.train(X_train, y_train)"
   ],
   "outputs": [
    {
     "output_type": "stream",
     "name": "stdout",
     "text": [
      "Cost after epoch 1: 2.066490157183527\n"
     ]
    },
    {
     "output_type": "display_data",
     "data": {
      "image/png": "[encoded data removed]",
      "text/plain": [
       "<Figure size 432x288 with 1 Axes>"
      ]
     },
     "metadata": {
      "needs_background": "light"
     }
    }
   ],
   "metadata": {}
  },
  {
   "cell_type": "code",
   "execution_count": 36,
   "source": [
    "test_mse = pr.evaluate(X_test, y_test)\n",
    "print(f\"Error on testing data, MSE : {test_mse}\")\n",
    "\n",
    "SGD_MSE_train.append(pr.costs[-1])\n",
    "SGD_MSE_test.append(test_mse)"
   ],
   "outputs": [
    {
     "output_type": "stream",
     "name": "stdout",
     "text": [
      "Error on testing data, MSE : 4.854528170435385\n"
     ]
    }
   ],
   "metadata": {}
  },
  {
   "cell_type": "markdown",
   "source": [
    "## Degree: 8"
   ],
   "metadata": {}
  },
  {
   "cell_type": "code",
   "execution_count": 37,
   "source": [
    "degree= 8\n",
    "X_new = polynomialFeatures(X, degree=degree)\n",
    "X_train, X_test, y_train, y_test = train_test_split(X_new, y, 42)\n",
    "X_train, X_test = standardize(X_train, X_test) \n",
    "\n",
    "print(f\"Degree : {degree}\")\n",
    "pr = PolynomialRegression(X_train.shape[0], degree=degree, learning_rate=0.01, epochs=1400, GD='BatchGD')\n",
    "pr.train(X_train, y_train)"
   ],
   "outputs": [
    {
     "output_type": "stream",
     "name": "stdout",
     "text": [
      "Degree : 8\n",
      "Cost after iteration 50 : 43.9676470330842\n",
      "Cost after iteration 100 : 17.342222960642182\n",
      "Cost after iteration 150 : 7.519412687412443\n",
      "Cost after iteration 200 : 3.8539220496443463\n",
      "Cost after iteration 250 : 2.4621189850628062\n",
      "Cost after iteration 300 : 1.9155307267154522\n",
      "Cost after iteration 350 : 1.6864270947100617\n",
      "Cost after iteration 400 : 1.578832503658806\n",
      "Cost after iteration 450 : 1.5193922983590753\n",
      "Cost after iteration 500 : 1.480292536678716\n",
      "Cost after iteration 550 : 1.4507538058725886\n",
      "Cost after iteration 600 : 1.4264376816292892\n",
      "Cost after iteration 650 : 1.4054820782211839\n",
      "Cost after iteration 700 : 1.3870021801740446\n",
      "Cost after iteration 750 : 1.370515131573824\n",
      "Cost after iteration 800 : 1.3557144291553083\n",
      "Cost after iteration 850 : 1.342378646902681\n",
      "Cost after iteration 900 : 1.3303328134949872\n",
      "Cost after iteration 950 : 1.3194310007122072\n",
      "Cost after iteration 1000 : 1.3095477729746532\n",
      "Cost after iteration 1050 : 1.300573517572576\n",
      "Cost after iteration 1100 : 1.2924115791459683\n",
      "Cost after iteration 1150 : 1.2849762971129197\n",
      "Cost after iteration 1200 : 1.278191535983862\n",
      "Cost after iteration 1250 : 1.2719895117478826\n",
      "Cost after iteration 1300 : 1.2663098140162\n",
      "Cost after iteration 1350 : 1.2610985692262708\n",
      "Cost after iteration 1400 : 1.2563077127656057\n"
     ]
    },
    {
     "output_type": "display_data",
     "data": {
      "image/png": "[encoded data removed]",
      "text/plain": [
       "<Figure size 432x288 with 1 Axes>"
      ]
     },
     "metadata": {
      "needs_background": "light"
     }
    }
   ],
   "metadata": {}
  },
  {
   "cell_type": "code",
   "execution_count": 38,
   "source": [
    "test_mse = pr.evaluate(X_test, y_test)\n",
    "print(f\"Error on testing data, MSE : {test_mse}\")\n",
    "\n",
    "BGD_MSE_train.append(pr.costs[-1])\n",
    "BGD_MSE_test.append(test_mse)"
   ],
   "outputs": [
    {
     "output_type": "stream",
     "name": "stdout",
     "text": [
      "Error on testing data, MSE : 1.2401076479317756\n"
     ]
    }
   ],
   "metadata": {}
  },
  {
   "cell_type": "code",
   "execution_count": 39,
   "source": [
    "pr = PolynomialRegression(X_train.shape[0], degree=degree, learning_rate=0.001, epochs=1, GD='StochasticGD')\n",
    "pr.train(X_train, y_train)"
   ],
   "outputs": [
    {
     "output_type": "stream",
     "name": "stdout",
     "text": [
      "Cost after epoch 1: 2.013524736343837\n"
     ]
    },
    {
     "output_type": "display_data",
     "data": {
      "image/png": "[encoded data removed]",
      "text/plain": [
       "<Figure size 432x288 with 1 Axes>"
      ]
     },
     "metadata": {
      "needs_background": "light"
     }
    }
   ],
   "metadata": {}
  },
  {
   "cell_type": "code",
   "execution_count": 40,
   "source": [
    "test_mse = pr.evaluate(X_test, y_test)\n",
    "print(f\"Error on testing data, MSE : {test_mse}\")\n",
    "\n",
    "SGD_MSE_train.append(pr.costs[-1])\n",
    "SGD_MSE_test.append(test_mse)"
   ],
   "outputs": [
    {
     "output_type": "stream",
     "name": "stdout",
     "text": [
      "Error on testing data, MSE : 4.707359184906692\n"
     ]
    }
   ],
   "metadata": {}
  },
  {
   "cell_type": "markdown",
   "source": [
    "## Degree: 9"
   ],
   "metadata": {}
  },
  {
   "cell_type": "code",
   "execution_count": 41,
   "source": [
    "degree=9\n",
    "X_new = polynomialFeatures(X, degree=degree)\n",
    "X_train, X_test, y_train, y_test = train_test_split(X_new, y, 42)\n",
    "X_train, X_test = standardize(X_train, X_test) \n",
    "\n",
    "print(f\"Degree : {degree}\")\n",
    "pr = PolynomialRegression(X_train.shape[0], learning_rate=0.001, epochs=2000, GD='BatchGD')\n",
    "pr.train(X_train, y_train)"
   ],
   "outputs": [
    {
     "output_type": "stream",
     "name": "stdout",
     "text": [
      "Degree : 9\n",
      "Cost after iteration 50 : 106.2764263296914\n",
      "Cost after iteration 100 : 96.18225924310951\n",
      "Cost after iteration 150 : 87.104903417819\n",
      "Cost after iteration 200 : 78.928846651414\n",
      "Cost after iteration 250 : 71.55679119303232\n",
      "Cost after iteration 300 : 64.9040760334088\n",
      "Cost after iteration 350 : 58.89648472782828\n",
      "Cost after iteration 400 : 53.46855890551395\n",
      "Cost after iteration 450 : 48.56227272196183\n",
      "Cost after iteration 500 : 44.125975871586206\n",
      "Cost after iteration 550 : 40.11353841591766\n",
      "Cost after iteration 600 : 36.48364894421621\n",
      "Cost after iteration 650 : 33.199230663068285\n",
      "Cost after iteration 700 : 30.22694939867533\n",
      "Cost after iteration 750 : 27.5367942492902\n",
      "Cost after iteration 800 : 25.101716499340622\n",
      "Cost after iteration 850 : 22.897315937729886\n",
      "Cost after iteration 900 : 20.90156629267882\n",
      "Cost after iteration 950 : 19.094573376462318\n",
      "Cost after iteration 1000 : 17.45836091952578\n",
      "Cost after iteration 1050 : 15.976680103166707\n",
      "Cost after iteration 1100 : 14.634839572067344\n",
      "Cost after iteration 1150 : 13.419553293135806\n",
      "Cost after iteration 1200 : 12.318804075945213\n",
      "Cost after iteration 1250 : 11.321720918852014\n",
      "Cost after iteration 1300 : 10.418468619720748\n",
      "Cost after iteration 1350 : 9.600148309903988\n",
      "Cost after iteration 1400 : 8.858707748349024\n",
      "Cost after iteration 1450 : 8.186860359326712\n",
      "Cost after iteration 1500 : 7.578012119545215\n",
      "Cost after iteration 1550 : 7.026195503649735\n",
      "Cost after iteration 1600 : 6.52600978526513\n",
      "Cost after iteration 1650 : 6.072567066771602\n",
      "Cost after iteration 1700 : 5.661443477144874\n",
      "Cost after iteration 1750 : 5.288635035154102\n",
      "Cost after iteration 1800 : 4.950517726315547\n",
      "Cost after iteration 1850 : 4.643811387289428\n",
      "Cost after iteration 1900 : 4.36554703171098\n",
      "Cost after iteration 1950 : 4.113037287433605\n",
      "Cost after iteration 2000 : 3.8838496473842046\n"
     ]
    },
    {
     "output_type": "display_data",
     "data": {
      "image/png": "[encoded data removed]",
      "text/plain": [
       "<Figure size 432x288 with 1 Axes>"
      ]
     },
     "metadata": {
      "needs_background": "light"
     }
    }
   ],
   "metadata": {}
  },
  {
   "cell_type": "code",
   "execution_count": 42,
   "source": [
    "test_mse = pr.evaluate(X_test, y_test)\n",
    "print(f\"Error on testing data, MSE : {test_mse}\")\n",
    "\n",
    "BGD_MSE_train.append(pr.costs[-1])\n",
    "BGD_MSE_test.append(test_mse)"
   ],
   "outputs": [
    {
     "output_type": "stream",
     "name": "stdout",
     "text": [
      "Error on testing data, MSE : 3.827988725595759\n"
     ]
    }
   ],
   "metadata": {}
  },
  {
   "cell_type": "code",
   "execution_count": 43,
   "source": [
    "pr = PolynomialRegression(X_train.shape[0], degree=degree, learning_rate=0.001, epochs=1, GD='StochasticGD')\n",
    "pr.train(X_train, y_train)"
   ],
   "outputs": [
    {
     "output_type": "stream",
     "name": "stdout",
     "text": [
      "Cost after epoch 1: 1.8467599026508037\n"
     ]
    },
    {
     "output_type": "display_data",
     "data": {
      "image/png": "[encoded data removed]",
      "text/plain": [
       "<Figure size 432x288 with 1 Axes>"
      ]
     },
     "metadata": {
      "needs_background": "light"
     }
    }
   ],
   "metadata": {}
  },
  {
   "cell_type": "code",
   "execution_count": 44,
   "source": [
    "test_mse = pr.evaluate(X_test, y_test)\n",
    "print(f\"Error on testing data, MSE : {test_mse}\")\n",
    "\n",
    "SGD_MSE_train.append(pr.costs[-1])\n",
    "SGD_MSE_test.append(test_mse)"
   ],
   "outputs": [
    {
     "output_type": "stream",
     "name": "stdout",
     "text": [
      "Error on testing data, MSE : 4.6571968416370035\n"
     ]
    }
   ],
   "metadata": {}
  },
  {
   "cell_type": "code",
   "execution_count": 45,
   "source": [
    "MSE_degree_plot(BGD_MSE_train, 'training')"
   ],
   "outputs": [
    {
     "output_type": "display_data",
     "data": {
      "image/png": "[encoded data removed]",
      "text/plain": [
       "<Figure size 432x288 with 1 Axes>"
      ]
     },
     "metadata": {
      "needs_background": "light"
     }
    }
   ],
   "metadata": {}
  },
  {
   "cell_type": "code",
   "execution_count": null,
   "source": [],
   "outputs": [],
   "metadata": {}
  }
 ],
 "metadata": {
  "orig_nbformat": 4,
  "language_info": {
   "name": "python",
   "version": "3.8.11",
   "mimetype": "text/x-python",
   "codemirror_mode": {
    "name": "ipython",
    "version": 3
   },
   "pygments_lexer": "ipython3",
   "nbconvert_exporter": "python",
   "file_extension": ".py"
  },
  "kernelspec": {
   "name": "python3",
   "display_name": "Python 3.8.11 64-bit ('fods': conda)"
  },
  "interpreter": {
   "hash": "ac2b08c951dac2a338a7c84613525b650efa077f3ead3ddcf0c3dbf45296c55b"
  }
 },
 "nbformat": 4,
 "nbformat_minor": 2
}